{
  "nbformat": 4,
  "nbformat_minor": 0,
  "metadata": {
    "colab": {
      "name": "Copie de 04.ipynb",
      "version": "0.3.2",
      "provenance": [],
      "include_colab_link": true
    },
    "language_info": {
      "codemirror_mode": {
        "name": "ipython",
        "version": 3
      },
      "file_extension": ".py",
      "mimetype": "text/x-python",
      "name": "python",
      "nbconvert_exporter": "python",
      "pygments_lexer": "ipython3",
      "version": "3.6.8"
    },
    "kernelspec": {
      "display_name": "Python 3",
      "language": "python",
      "name": "python3"
    }
  },
  "cells": [
    {
      "cell_type": "markdown",
      "metadata": {
        "id": "view-in-github",
        "colab_type": "text"
      },
      "source": [
        "<a href=\"https://colab.research.google.com/github/samueldumaresq/Pensamento-Computacional/blob/master/04.ipynb\" target=\"_parent\"><img src=\"https://colab.research.google.com/assets/colab-badge.svg\" alt=\"Open In Colab\"/></a>"
      ]
    },
    {
      "cell_type": "markdown",
      "metadata": {
        "id": "EslsCuj41c9a",
        "colab_type": "text"
      },
      "source": [
        "<small><small><i>\n",
        "Este notebook foi baseado nos notebooks disponíveis em [https://gitlab.erc.monash.edu.au/andrease/Python4Maths.git]\n",
        "</i></small></small>"
      ]
    },
    {
      "cell_type": "markdown",
      "metadata": {
        "id": "1DpeMwyr1c9e",
        "colab_type": "text"
      },
      "source": [
        "# Reaproveitando código\n",
        "\n",
        "Uma outra maneira de utilizar um código múltiplas vezes é através de **procedimentos**.\n",
        "\n",
        "Um procedimento é um conjunto de instruções agrupados em um bloco que recebem um nome e podem ser chamados quantas vezes for necessário.\n",
        "\n",
        "Nos roteiros anteriores, você já vem usando procedimentos como ```input()```, ```print()``` e ```randint()```.\n",
        "\n",
        "Você também pode criar seus próprios procedimentos usando o seguinte padrão:\n",
        "\n",
        "```python\n",
        "def nome():\n",
        "    instrucao\n",
        "    instrucao\n",
        "    ...\n",
        "```\n",
        "\n",
        "O padrão acima pode ser lido como ```definir``` um procedimento chamado ```nome```, que executará o seguinte bloco de instruções.\n",
        "\n",
        "As regras básicas para a **definição e uso de procedimentos** em Python são:\n",
        "\n",
        "* O trecho de código delimitado por um procedimento é chamado bloco e deve ser identado.\n",
        "* Um procedimento é chamado utilizando a notação ```nome()```."
      ]
    },
    {
      "cell_type": "code",
      "metadata": {
        "id": "d4SRJb0v1c9f",
        "colab_type": "code",
        "outputId": "393257c1-11e8-48a2-8343-2a32449f18ee",
        "colab": {
          "base_uri": "https://localhost:8080/",
          "height": 34
        }
      },
      "source": [
        "def bom_dia():\n",
        "    print(\"Bom dia!\")\n",
        "\n",
        "bom_dia()"
      ],
      "execution_count": 0,
      "outputs": [
        {
          "output_type": "stream",
          "text": [
            "Bom dia!\n"
          ],
          "name": "stdout"
        }
      ]
    },
    {
      "cell_type": "markdown",
      "metadata": {
        "id": "WYWT_nA11c9l",
        "colab_type": "text"
      },
      "source": [
        "### Exercícios de fixação"
      ]
    },
    {
      "cell_type": "markdown",
      "metadata": {
        "id": "CakHUdFZ1c9m",
        "colab_type": "text"
      },
      "source": [
        "1 - Crie um procedimento ```aleatorio()``` que imprima um inteiro aleatorio pertencente ao intervalo [1,60]."
      ]
    },
    {
      "cell_type": "code",
      "metadata": {
        "id": "yYxqR70C1c9n",
        "colab_type": "code",
        "outputId": "d33f788e-0ba7-4132-9603-71b4cf74957d",
        "colab": {
          "base_uri": "https://localhost:8080/",
          "height": 34
        }
      },
      "source": [
        "def random_numbers():\n",
        "    print(randint(1,60))\n",
        "random_numbers()\n",
        "    \n",
        "   \n"
      ],
      "execution_count": 0,
      "outputs": [
        {
          "output_type": "stream",
          "text": [
            "48\n"
          ],
          "name": "stdout"
        }
      ]
    },
    {
      "cell_type": "markdown",
      "metadata": {
        "id": "84bTx0dl1c9r",
        "colab_type": "text"
      },
      "source": [
        "2 - Crie um procedimento mega_sena() que use o procedimento aleatorio() e imprima um jogo da mega sena."
      ]
    },
    {
      "cell_type": "code",
      "metadata": {
        "id": "9hZayy5p1c9s",
        "colab_type": "code",
        "outputId": "e6cfad4e-ec66-4bf5-bff4-56965151c2dc",
        "colab": {
          "base_uri": "https://localhost:8080/",
          "height": 34
        }
      },
      "source": [
        "def mega_sena():\n",
        "      print(randint(10,99))\n",
        "mega_sena()\n",
        "    "
      ],
      "execution_count": 0,
      "outputs": [
        {
          "output_type": "stream",
          "text": [
            "68\n"
          ],
          "name": "stdout"
        }
      ]
    },
    {
      "cell_type": "markdown",
      "metadata": {
        "id": "kQX18pvH1c9v",
        "colab_type": "text"
      },
      "source": [
        "## Customizando a execução de um procedimento"
      ]
    },
    {
      "cell_type": "markdown",
      "metadata": {
        "id": "1FlrtCx-1c9w",
        "colab_type": "text"
      },
      "source": [
        "Você pode configurar o comportamento de um procedimento utilizando **parâmetros de chamada** (também conhecidos como *argumentos*).\n",
        "\n",
        "Não existe um limite para a quantidade de argumentos de um procedimento, mas você deve nomeá-los ao definir seu procedimento para poder utilizá-los como variáveis:\n",
        "\n",
        "```python\n",
        "def nome(arg1, arg2, ..., argN):\n",
        "    instrucao\n",
        "    instrucao\n",
        "    ...\n",
        "```\n"
      ]
    },
    {
      "cell_type": "code",
      "metadata": {
        "scrolled": true,
        "id": "8KXRBKpe1c9y",
        "colab_type": "code",
        "outputId": "08951789-2adb-46a3-b4c0-f83f2dcb807c",
        "colab": {
          "base_uri": "https://localhost:8080/",
          "height": 68
        }
      },
      "source": [
        "def info_pessoa(nome, idade, email):\n",
        "    print(\"Nome:\", nome)\n",
        "    print(\"Idade:\", idade)\n",
        "    print(\"Email:\", email)\n",
        "\n",
        "info_pessoa(\"Leonardo Bezerra\", \"31\", \"leobezerra@imd.ufrn.br\")"
      ],
      "execution_count": 0,
      "outputs": [
        {
          "output_type": "stream",
          "text": [
            "Nome: Leonardo Bezerra\n",
            "Idade: 31\n",
            "Email: leobezerra@imd.ufrn.br\n"
          ],
          "name": "stdout"
        }
      ]
    },
    {
      "cell_type": "markdown",
      "metadata": {
        "id": "lA6KKPNu1c91",
        "colab_type": "text"
      },
      "source": [
        "### Exercícios de fixação"
      ]
    },
    {
      "cell_type": "markdown",
      "metadata": {
        "id": "JYp4JayO1c92",
        "colab_type": "text"
      },
      "source": [
        "1 - Crie um procedimento ```media()``` que receba notas de 3 unidades de uma disciplina e calcule sua média."
      ]
    },
    {
      "cell_type": "code",
      "metadata": {
        "id": "N8SqpPXP1c93",
        "colab_type": "code",
        "outputId": "5f2deda4-c87e-46f9-e833-44c535c898ae",
        "colab": {
          "base_uri": "https://localhost:8080/",
          "height": 34
        }
      },
      "source": [
        "data_base = [10, 20, 30]\n",
        "from statistics import mean\n",
        "mean(data_base)"
      ],
      "execution_count": 0,
      "outputs": [
        {
          "output_type": "execute_result",
          "data": {
            "text/plain": [
              "20"
            ]
          },
          "metadata": {
            "tags": []
          },
          "execution_count": 53
        }
      ]
    },
    {
      "cell_type": "code",
      "metadata": {
        "id": "SiSJe2kp9fnp",
        "colab_type": "code",
        "colab": {}
      },
      "source": [
        ""
      ],
      "execution_count": 0,
      "outputs": []
    },
    {
      "cell_type": "markdown",
      "metadata": {
        "id": "XGnpiefO1c97",
        "colab_type": "text"
      },
      "source": [
        "2 - Crie um procedimento ```fatorial()``` que receba um inteiro N e imprima seu fatorial."
      ]
    },
    {
      "cell_type": "code",
      "metadata": {
        "id": "Bs6P5zZ21c98",
        "colab_type": "code",
        "colab": {}
      },
      "source": [
        ""
      ],
      "execution_count": 0,
      "outputs": []
    },
    {
      "cell_type": "markdown",
      "metadata": {
        "id": "3-4t_Waj1c-A",
        "colab_type": "text"
      },
      "source": [
        "## Interrompendo a execução de um procedimento"
      ]
    },
    {
      "cell_type": "markdown",
      "metadata": {
        "id": "t4vuNl6T1c-B",
        "colab_type": "text"
      },
      "source": [
        "Assim como é possível interromper uma repetição usando o comando ```break```, é possível interromper a execução de um procedimento usando o comando ```return```."
      ]
    },
    {
      "cell_type": "code",
      "metadata": {
        "scrolled": true,
        "id": "VOpUvNhd1c-C",
        "colab_type": "code",
        "colab": {}
      },
      "source": [
        "def raiz_quadrada(n):\n",
        "    if n < 0:\n",
        "        return\n",
        "    print(\"Raiz:\", n ** 0.5)\n",
        "\n",
        "raiz_quadrada(4)\n",
        "raiz_quadrada(16)\n",
        "raiz_quadrada(-1)"
      ],
      "execution_count": 0,
      "outputs": []
    },
    {
      "cell_type": "markdown",
      "metadata": {
        "id": "E9KBg76o1c-H",
        "colab_type": "text"
      },
      "source": [
        "### Exercícios de fixação"
      ]
    },
    {
      "cell_type": "markdown",
      "metadata": {
        "id": "xRXUCWGX1c-I",
        "colab_type": "text"
      },
      "source": [
        "1 - Crie um procedimento ```divisao_inteira()``` que imprima o resultado e o resto da divisão inteira de dois parâmetros inteiros. Se não houver resto, seu procedimento deverá imprimir apenas o resultado da divisão."
      ]
    },
    {
      "cell_type": "code",
      "metadata": {
        "id": "0Z5gUCp11c-J",
        "colab_type": "code",
        "colab": {}
      },
      "source": [
        ""
      ],
      "execution_count": 0,
      "outputs": []
    },
    {
      "cell_type": "markdown",
      "metadata": {
        "id": "_nxIHJAm1c-N",
        "colab_type": "text"
      },
      "source": [
        "## Produzindo um valor a partir de um procedimento"
      ]
    },
    {
      "cell_type": "markdown",
      "metadata": {
        "id": "-TwrHP771c-O",
        "colab_type": "text"
      },
      "source": [
        "Outro uso do comando ```return``` é permitir que um procedimento produza um resultado (retorne um valor).\n",
        "\n",
        "Tanto é possível retornar valores diretamente, como usando as varíaveis associadas a esses valores."
      ]
    },
    {
      "cell_type": "code",
      "metadata": {
        "scrolled": true,
        "id": "j5SgyNhd1c-P",
        "colab_type": "code",
        "colab": {}
      },
      "source": [
        "def soma_n_primeiros(n):\n",
        "    soma = 0\n",
        "    for i in range(n):\n",
        "        soma += i\n",
        "    return soma\n",
        "\n",
        "print(soma_n_primeiros(3))\n",
        "print(soma_n_primeiros(5))\n",
        "print(soma_n_primeiros(10))"
      ],
      "execution_count": 0,
      "outputs": []
    },
    {
      "cell_type": "markdown",
      "metadata": {
        "id": "RfA13UbV1c-S",
        "colab_type": "text"
      },
      "source": [
        "### Exercícios de fixação"
      ]
    },
    {
      "cell_type": "markdown",
      "metadata": {
        "id": "hYDAvr041c-T",
        "colab_type": "text"
      },
      "source": [
        "1 - Crie um procedimento ```valor_absoluto()``` que retorne o valor absoluto de um parâmetro."
      ]
    },
    {
      "cell_type": "code",
      "metadata": {
        "id": "HtcRu1N-1c-U",
        "colab_type": "code",
        "colab": {}
      },
      "source": [
        ""
      ],
      "execution_count": 0,
      "outputs": []
    },
    {
      "cell_type": "markdown",
      "metadata": {
        "id": "X8jxwnr61c-X",
        "colab_type": "text"
      },
      "source": [
        "## Usando procedimentos definidos por outros"
      ]
    },
    {
      "cell_type": "markdown",
      "metadata": {
        "id": "kaaJk83W1c-Y",
        "colab_type": "text"
      },
      "source": [
        "Um dos principais usos de procedimentos é a construção de **bibliotecas**, que são códigos criados por outras pessoas que você pode utilizar dentro do seu código.\n",
        "\n",
        "Nesta disciplina, você poderá **importar** procedimentos de bibliotecas de duas formas:\n",
        "- Importando procedimento(s) específico(s) de uma biblioteca\n",
        "```python\n",
        "from biblioteca import procedimento1, procedimento2, ..., procedimentoN\n",
        "```\n",
        "- Importando todos os procedimentos de uma biblioteca\n",
        "```python\n",
        "from biblioteca import *\n",
        "```"
      ]
    },
    {
      "cell_type": "markdown",
      "metadata": {
        "id": "WqvVA6K_1c-Z",
        "colab_type": "text"
      },
      "source": [
        "### Exercícios de fixação"
      ]
    },
    {
      "cell_type": "markdown",
      "metadata": {
        "id": "AbKw8WHq1c-a",
        "colab_type": "text"
      },
      "source": [
        "1 - Em roteiros anteriores, você usou a função ```randint()```. Qual biblioteca fornece esse procedimento?"
      ]
    },
    {
      "cell_type": "markdown",
      "metadata": {
        "id": "xao9lUPN1c-b",
        "colab_type": "text"
      },
      "source": [
        "Resposta: "
      ]
    },
    {
      "cell_type": "markdown",
      "metadata": {
        "id": "ZB2eEAXG1c-f",
        "colab_type": "text"
      },
      "source": [
        "2 - Use os procedimentos ```sin()``` e ```floor()``` da biblioteca ```math``` para calcular o seno de um número e transformá-lo em um inteiro arredondando-o para baixo."
      ]
    },
    {
      "cell_type": "code",
      "metadata": {
        "id": "qxYe5Gf91c-g",
        "colab_type": "code",
        "colab": {}
      },
      "source": [
        ""
      ],
      "execution_count": 0,
      "outputs": []
    },
    {
      "cell_type": "markdown",
      "metadata": {
        "collapsed": true,
        "id": "yCz4dVBW1c-k",
        "colab_type": "text"
      },
      "source": [
        "## Exercícios do URI"
      ]
    },
    {
      "cell_type": "markdown",
      "metadata": {
        "collapsed": true,
        "id": "0p3PYsa91c-l",
        "colab_type": "text"
      },
      "source": [
        "[2630](https://www.urionlinejudge.com.br/judge/pt/problems/view/2630) - Sistemas de computação gráfica representam imagens como um conjunto de pontos (pixels) formados por três componentes: vermelho, verde e azul.\n",
        "\n",
        "Alguns algoritmos de processamento de imagem exigem um pré-processamento no qual é necessário transformar uma imagem colorida em uma imagem em tons de cinza. Esta conversão pode ser realizada de diversas maneiras, dependendo do resultado que se pretende obter.\n",
        "\n",
        "Para preservar a percepção das cores básicas pelo olho humano, uma conversão apropriada seria tomar 30% da componente vermelha (R), 59% da componente verde (G) e 11% da componente azul (B). Em termos matemáticos,\n",
        "\n",
        "P = 0,30R + 0,59G + 0,11B\n",
        "\n",
        "Outras abordagens possíveis seriam determinar o valor de P através da média aritmética das três componentes ou atribuir a P os valores da maior ou da menor entre as três componentes.\n",
        "\n",
        "Escreva um código Python que, dadas as componentes RGB de um pixel da imagem colorida, determine o valor do pixel P da imagem em tons de cinza correspondente, determinada a conversão a ser utilizada. Despreze a parte decimal do resultado, caso exista.\n",
        "\n",
        "A entrada consiste em T (1 ≤ T ≤ 100) casos de teste, onde o valor de T é dado na primeira linha da entrada. Cada caso de teste é composto por quatro linhas: a primeira linha contém a conversão a ser utilizada: eye para a primeira abordagem descrita, mean para a média aritmética, max para o valor da maior componente e min para o valor da menor componente. As demais linhas contêm os valores R, G, B (0 ≤ R, G, B ≤ 255) do pixel da imagem colorida.\n",
        "\n",
        "Para cada caso de testes dever ser impresso P, onde P é o nível de cinza do pixel da imagem em tons de cinza após a conversão do pixel da imagem colorida."
      ]
    },
    {
      "cell_type": "markdown",
      "metadata": {
        "id": "1GZ2WNlU1c-m",
        "colab_type": "text"
      },
      "source": [
        "|.| Entrada | Saída |\n",
        "|-|:----:|:-:|\n",
        "| *Exemplo 1* | 3<br/>min<br/>35<br/>70<br/>35<br/>mean<br/>10<br/>74<br/>181<br/>eye<br/>23<br/>78<br/>197 | 35<br/>88<br/>74 | \n",
        "| *Exemplo 2* | 4<br/>min<br/>41<br/>27<br/>32<br/>min<br/>10<br/>21<br/>6<br/>max<br/>15<br/>41<br/>72<br/>max<br/>40<br/>21<br/>63 | 27<br/>6<br/>72<br/>41 | \n",
        "| *Exemplo 3* | 2<br/>eye<br/>7<br/>62<br/>200<br/>mean<br/>15<br/>49<br/>227 | 60<br/>97 | "
      ]
    },
    {
      "cell_type": "code",
      "metadata": {
        "id": "cMfw16_31c-n",
        "colab_type": "code",
        "colab": {}
      },
      "source": [
        ""
      ],
      "execution_count": 0,
      "outputs": []
    },
    {
      "cell_type": "markdown",
      "metadata": {
        "id": "vQUhRlQB1c-s",
        "colab_type": "text"
      },
      "source": [
        "[2165](https://www.urionlinejudge.com.br/judge/pt/problems/view/2165) - O microblog Twitter é conhecido por limitar as postagens em 140 caracteres. Mais recentemente, alguns usuários como a @HBO_Brasil tiveram seus limites de caracteres dobrados para 280.\n",
        "\n",
        "Escreva um código que confira se um texto vai caber em um tuíte. Cada caso de teste é iniciado com um inteiro informando a qual limite o usuário tem direito. Caso o tamanho do caracter exceda esse limite, seu código deverá imprimir a mensagem NO. Caso contrário, seu código deverá imprimir a mensagem OK.\n"
      ]
    },
    {
      "cell_type": "markdown",
      "metadata": {
        "id": "RzhZT7L51c-t",
        "colab_type": "text"
      },
      "source": [
        "|.| Entrada | Saída |\n",
        "|-|----|:-:|\n",
        "| *Exemplo 1* | 280<br/>Agora dá: Daenerys Targaryen, Filha da Tormenta, Não Queimada, Mãe de Dragões, Rainha de Mereen,<br/>Rainha dos Ândalos e dos Primeiros Homens, Quebradora de Correntes, Senhora dos Sete Reinos,<br/>Khaleesi dos Dothraki, a Primeira de Seu Nome. Descendente da Casa Targaryen. | OK | \n",
        "| *Exemplo 2* | 140<br/>Jon Snow. Ele é Rei do Norte. | OK | \n",
        "| *Exemplo 3* | 140<br/>Fish fingers last night! Looking forward to meeting with<br/>Prime Minister @Netanyahu shortly. (Was thinking of making a joke on<br/>his name – Netanya-WHO!? but @IvankaTrump said best not.)<br/>Peace in the Middle East would be a truly great legacy for ALL people! | NO | \n",
        "\n",
        "\n"
      ]
    },
    {
      "cell_type": "code",
      "metadata": {
        "id": "pE1cM4O-1c-u",
        "colab_type": "code",
        "colab": {}
      },
      "source": [
        ""
      ],
      "execution_count": 0,
      "outputs": []
    },
    {
      "cell_type": "markdown",
      "metadata": {
        "id": "YtHwneyA1c-y",
        "colab_type": "text"
      },
      "source": [
        "3 - Em exercícios de notebooks anteriores, você implementou códigos para calcular a contribuição mensal de um trabalhador para o INSS e seu IRPF (imposto de renda pessoa física).\n",
        "\n",
        "Reuse seus códigos de forma modularizada para criar um código que leia o salário bruto de um trabalhador e imprima se salário líquido (descontados INSS e IRPF)."
      ]
    },
    {
      "cell_type": "markdown",
      "metadata": {
        "id": "udTwUklt1c-z",
        "colab_type": "text"
      },
      "source": [
        "|.| Entrada | Saída |\n",
        "|-|:-:|-|\n",
        "| *Exemplo 1* | 1200.00 | 1104.00 | \n",
        "| *Exemplo 2* | 5485.00 | 4474.05 |\n",
        "| *Exemplo 3* | 10431.00 | 8059.90 |"
      ]
    },
    {
      "cell_type": "code",
      "metadata": {
        "id": "FC3k9ttZ1c-0",
        "colab_type": "code",
        "colab": {}
      },
      "source": [
        ""
      ],
      "execution_count": 0,
      "outputs": []
    }
  ]
}